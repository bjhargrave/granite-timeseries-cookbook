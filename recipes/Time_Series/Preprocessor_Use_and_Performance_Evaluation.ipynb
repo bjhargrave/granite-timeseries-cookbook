{
 "cells": [
  {
   "cell_type": "markdown",
   "metadata": {},
   "source": [
    "\n",
    "# Energy Demand Forecasting with Granite Timeseries - Preprocessor Use and Performance Evaluation\n",
    "\n",
    "TinyTimeMixers (TTMs) are compact pre-trained models for Multivariate Time-Series Forecasting, open-sourced by IBM Research. With less than 1 Million parameters, TTM introduces the notion of the first-ever \"tiny\" pre-trained models for Time-Series Forecasting. TTM outperforms several popular benchmarks demanding billions of parameters in zero-shot and few-shot forecasting and can easily be fine-tuned for multi-variate forecasts.\n",
    "\n",
    "In this recipe, we move beyond simple prediction to training a Preprocessor and evaluating the model. We evaluate the performance of our model on a real-world dataset containing energy demand data from Spain."
   ]
  },
  {
   "cell_type": "markdown",
   "metadata": {},
   "source": [
    "## Setting Up"
   ]
  },
  {
   "cell_type": "markdown",
   "metadata": {},
   "source": [
    "### Install the TSFM Library \n",
    "\n",
    "The [granite-tsfm library](https://github.com/ibm-granite/granite-tsfm) provides utilities for working with Time Series Foundation Models (TSFM). Here the pinned version is retrieved and installed."
   ]
  },
  {
   "cell_type": "code",
   "execution_count": 1,
   "metadata": {},
   "outputs": [],
   "source": [
    "# Install the tsfm library\n",
    "! pip install \"tsfm_public[notebooks] @ git+https://github.com/ibm-granite/granite-tsfm.git@v0.2.9\" -U"
   ]
  },
  {
   "cell_type": "markdown",
   "metadata": {},
   "source": [
    "### Import Packages\n",
    "\n",
    "From `tsfm_public`, we use the TinyTimeMixer model, preprocessor, forecasting pipeline, and plotting function.\n"
   ]
  },
  {
   "cell_type": "code",
   "execution_count": 2,
   "metadata": {},
   "outputs": [
    {
     "name": "stderr",
     "output_type": "stream",
     "text": [
      "INFO:p-79675:t-7990780160:config.py:<module>:PyTorch version 2.4.0 available.\n"
     ]
    }
   ],
   "source": [
    "import numpy as np\n",
    "import pandas as pd\n",
    "import matplotlib.pyplot as plt\n",
    "\n",
    "from tsfm_public import (\n",
    "    TinyTimeMixerForPrediction,\n",
    "    TimeSeriesForecastingPipeline,\n",
    "    TimeSeriesPreprocessor,\n",
    ")\n",
    "from tsfm_public.toolkit.visualization import plot_predictions\n",
    "from tsfm_public.toolkit.time_series_preprocessor import prepare_data_splits"
   ]
  },
  {
   "cell_type": "markdown",
   "metadata": {},
   "source": [
    "### Specify configuration variables\n",
    "\n",
    "We provide the names of the timestamp column and the target column to be predicted. The context length and predition length (in time steps) is set to match the pretrained model."
   ]
  },
  {
   "cell_type": "code",
   "execution_count": 3,
   "metadata": {},
   "outputs": [],
   "source": [
    "timestamp_column = \"time\"\n",
    "target_columns = [\"total load actual\"]\n",
    "\n",
    "context_length = 512 # the max context length for the 512-96 model\n",
    "prediction_length = 96 # the max forecast length for the 512-96 model"
   ]
  },
  {
   "cell_type": "markdown",
   "metadata": {},
   "source": [
    "## Preparing the Data"
   ]
  },
  {
   "cell_type": "markdown",
   "metadata": {},
   "source": [
    "### Download the data\n",
    "\n",
    "We'll work with a dataset of hourly electrical demand, generation by type, prices, and weather in Spain.\n",
    "\n",
    "1. Download the energy_data.csv.zip [dataset file from Kaggle here.](https://www.kaggle.com/datasets/nicholasjhana/energy-consumption-generation-prices-and-weather)\n",
    "2. Edit the `DATA_FILE_PATH` below to point to the data file.\n"
   ]
  },
  {
   "cell_type": "code",
   "execution_count": 4,
   "metadata": {},
   "outputs": [],
   "source": [
    "DATA_FILE_PATH = \"~/Downloads/energy_dataset.csv.zip\""
   ]
  },
  {
   "cell_type": "markdown",
   "metadata": {},
   "source": [
    "### Read in the data\n",
    "\n",
    "We parse the CSV into a pandas dataframe. In subsequent steps we will split the input dataframe."
   ]
  },
  {
   "cell_type": "code",
   "execution_count": 5,
   "metadata": {},
   "outputs": [
    {
     "data": {
      "text/html": [
       "<div>\n",
       "<style scoped>\n",
       "    .dataframe tbody tr th:only-of-type {\n",
       "        vertical-align: middle;\n",
       "    }\n",
       "\n",
       "    .dataframe tbody tr th {\n",
       "        vertical-align: top;\n",
       "    }\n",
       "\n",
       "    .dataframe thead th {\n",
       "        text-align: right;\n",
       "    }\n",
       "</style>\n",
       "<table border=\"1\" class=\"dataframe\">\n",
       "  <thead>\n",
       "    <tr style=\"text-align: right;\">\n",
       "      <th></th>\n",
       "      <th>time</th>\n",
       "      <th>generation biomass</th>\n",
       "      <th>generation fossil brown coal/lignite</th>\n",
       "      <th>generation fossil coal-derived gas</th>\n",
       "      <th>generation fossil gas</th>\n",
       "      <th>generation fossil hard coal</th>\n",
       "      <th>generation fossil oil</th>\n",
       "      <th>generation fossil oil shale</th>\n",
       "      <th>generation fossil peat</th>\n",
       "      <th>generation geothermal</th>\n",
       "      <th>...</th>\n",
       "      <th>generation waste</th>\n",
       "      <th>generation wind offshore</th>\n",
       "      <th>generation wind onshore</th>\n",
       "      <th>forecast solar day ahead</th>\n",
       "      <th>forecast wind offshore eday ahead</th>\n",
       "      <th>forecast wind onshore day ahead</th>\n",
       "      <th>total load forecast</th>\n",
       "      <th>total load actual</th>\n",
       "      <th>price day ahead</th>\n",
       "      <th>price actual</th>\n",
       "    </tr>\n",
       "  </thead>\n",
       "  <tbody>\n",
       "    <tr>\n",
       "      <th>35059</th>\n",
       "      <td>2018-12-31 19:00:00+01:00</td>\n",
       "      <td>297.0</td>\n",
       "      <td>0.0</td>\n",
       "      <td>0.0</td>\n",
       "      <td>7634.0</td>\n",
       "      <td>2628.0</td>\n",
       "      <td>178.0</td>\n",
       "      <td>0.0</td>\n",
       "      <td>0.0</td>\n",
       "      <td>0.0</td>\n",
       "      <td>...</td>\n",
       "      <td>277.0</td>\n",
       "      <td>0.0</td>\n",
       "      <td>3113.0</td>\n",
       "      <td>96.0</td>\n",
       "      <td>NaN</td>\n",
       "      <td>3253.0</td>\n",
       "      <td>30619.0</td>\n",
       "      <td>30653.0</td>\n",
       "      <td>68.85</td>\n",
       "      <td>77.02</td>\n",
       "    </tr>\n",
       "    <tr>\n",
       "      <th>35060</th>\n",
       "      <td>2018-12-31 20:00:00+01:00</td>\n",
       "      <td>296.0</td>\n",
       "      <td>0.0</td>\n",
       "      <td>0.0</td>\n",
       "      <td>7241.0</td>\n",
       "      <td>2566.0</td>\n",
       "      <td>174.0</td>\n",
       "      <td>0.0</td>\n",
       "      <td>0.0</td>\n",
       "      <td>0.0</td>\n",
       "      <td>...</td>\n",
       "      <td>280.0</td>\n",
       "      <td>0.0</td>\n",
       "      <td>3288.0</td>\n",
       "      <td>51.0</td>\n",
       "      <td>NaN</td>\n",
       "      <td>3353.0</td>\n",
       "      <td>29932.0</td>\n",
       "      <td>29735.0</td>\n",
       "      <td>68.40</td>\n",
       "      <td>76.16</td>\n",
       "    </tr>\n",
       "    <tr>\n",
       "      <th>35061</th>\n",
       "      <td>2018-12-31 21:00:00+01:00</td>\n",
       "      <td>292.0</td>\n",
       "      <td>0.0</td>\n",
       "      <td>0.0</td>\n",
       "      <td>7025.0</td>\n",
       "      <td>2422.0</td>\n",
       "      <td>168.0</td>\n",
       "      <td>0.0</td>\n",
       "      <td>0.0</td>\n",
       "      <td>0.0</td>\n",
       "      <td>...</td>\n",
       "      <td>286.0</td>\n",
       "      <td>0.0</td>\n",
       "      <td>3503.0</td>\n",
       "      <td>36.0</td>\n",
       "      <td>NaN</td>\n",
       "      <td>3404.0</td>\n",
       "      <td>27903.0</td>\n",
       "      <td>28071.0</td>\n",
       "      <td>66.88</td>\n",
       "      <td>74.30</td>\n",
       "    </tr>\n",
       "    <tr>\n",
       "      <th>35062</th>\n",
       "      <td>2018-12-31 22:00:00+01:00</td>\n",
       "      <td>293.0</td>\n",
       "      <td>0.0</td>\n",
       "      <td>0.0</td>\n",
       "      <td>6562.0</td>\n",
       "      <td>2293.0</td>\n",
       "      <td>163.0</td>\n",
       "      <td>0.0</td>\n",
       "      <td>0.0</td>\n",
       "      <td>0.0</td>\n",
       "      <td>...</td>\n",
       "      <td>287.0</td>\n",
       "      <td>0.0</td>\n",
       "      <td>3586.0</td>\n",
       "      <td>29.0</td>\n",
       "      <td>NaN</td>\n",
       "      <td>3273.0</td>\n",
       "      <td>25450.0</td>\n",
       "      <td>25801.0</td>\n",
       "      <td>63.93</td>\n",
       "      <td>69.89</td>\n",
       "    </tr>\n",
       "    <tr>\n",
       "      <th>35063</th>\n",
       "      <td>2018-12-31 23:00:00+01:00</td>\n",
       "      <td>290.0</td>\n",
       "      <td>0.0</td>\n",
       "      <td>0.0</td>\n",
       "      <td>6926.0</td>\n",
       "      <td>2166.0</td>\n",
       "      <td>163.0</td>\n",
       "      <td>0.0</td>\n",
       "      <td>0.0</td>\n",
       "      <td>0.0</td>\n",
       "      <td>...</td>\n",
       "      <td>287.0</td>\n",
       "      <td>0.0</td>\n",
       "      <td>3651.0</td>\n",
       "      <td>26.0</td>\n",
       "      <td>NaN</td>\n",
       "      <td>3117.0</td>\n",
       "      <td>24424.0</td>\n",
       "      <td>24455.0</td>\n",
       "      <td>64.27</td>\n",
       "      <td>69.88</td>\n",
       "    </tr>\n",
       "  </tbody>\n",
       "</table>\n",
       "<p>5 rows × 29 columns</p>\n",
       "</div>"
      ],
      "text/plain": [
       "                            time  generation biomass  \\\n",
       "35059  2018-12-31 19:00:00+01:00               297.0   \n",
       "35060  2018-12-31 20:00:00+01:00               296.0   \n",
       "35061  2018-12-31 21:00:00+01:00               292.0   \n",
       "35062  2018-12-31 22:00:00+01:00               293.0   \n",
       "35063  2018-12-31 23:00:00+01:00               290.0   \n",
       "\n",
       "       generation fossil brown coal/lignite  \\\n",
       "35059                                   0.0   \n",
       "35060                                   0.0   \n",
       "35061                                   0.0   \n",
       "35062                                   0.0   \n",
       "35063                                   0.0   \n",
       "\n",
       "       generation fossil coal-derived gas  generation fossil gas  \\\n",
       "35059                                 0.0                 7634.0   \n",
       "35060                                 0.0                 7241.0   \n",
       "35061                                 0.0                 7025.0   \n",
       "35062                                 0.0                 6562.0   \n",
       "35063                                 0.0                 6926.0   \n",
       "\n",
       "       generation fossil hard coal  generation fossil oil  \\\n",
       "35059                       2628.0                  178.0   \n",
       "35060                       2566.0                  174.0   \n",
       "35061                       2422.0                  168.0   \n",
       "35062                       2293.0                  163.0   \n",
       "35063                       2166.0                  163.0   \n",
       "\n",
       "       generation fossil oil shale  generation fossil peat  \\\n",
       "35059                          0.0                     0.0   \n",
       "35060                          0.0                     0.0   \n",
       "35061                          0.0                     0.0   \n",
       "35062                          0.0                     0.0   \n",
       "35063                          0.0                     0.0   \n",
       "\n",
       "       generation geothermal  ...  generation waste  generation wind offshore  \\\n",
       "35059                    0.0  ...             277.0                       0.0   \n",
       "35060                    0.0  ...             280.0                       0.0   \n",
       "35061                    0.0  ...             286.0                       0.0   \n",
       "35062                    0.0  ...             287.0                       0.0   \n",
       "35063                    0.0  ...             287.0                       0.0   \n",
       "\n",
       "       generation wind onshore  forecast solar day ahead  \\\n",
       "35059                   3113.0                      96.0   \n",
       "35060                   3288.0                      51.0   \n",
       "35061                   3503.0                      36.0   \n",
       "35062                   3586.0                      29.0   \n",
       "35063                   3651.0                      26.0   \n",
       "\n",
       "       forecast wind offshore eday ahead  forecast wind onshore day ahead  \\\n",
       "35059                                NaN                           3253.0   \n",
       "35060                                NaN                           3353.0   \n",
       "35061                                NaN                           3404.0   \n",
       "35062                                NaN                           3273.0   \n",
       "35063                                NaN                           3117.0   \n",
       "\n",
       "       total load forecast  total load actual  price day ahead  price actual  \n",
       "35059              30619.0            30653.0            68.85         77.02  \n",
       "35060              29932.0            29735.0            68.40         76.16  \n",
       "35061              27903.0            28071.0            66.88         74.30  \n",
       "35062              25450.0            25801.0            63.93         69.89  \n",
       "35063              24424.0            24455.0            64.27         69.88  \n",
       "\n",
       "[5 rows x 29 columns]"
      ]
     },
     "execution_count": 5,
     "metadata": {},
     "output_type": "execute_result"
    }
   ],
   "source": [
    "# Read in the data from the downloaded file.\n",
    "input_df = pd.read_csv(\n",
    "  DATA_FILE_PATH,\n",
    "    parse_dates=[timestamp_column]\n",
    ")\n",
    "\n",
    "# Show the last few rows of the dataset.\n",
    "input_df.tail()"
   ]
  },
  {
   "cell_type": "markdown",
   "metadata": {},
   "source": [
    "### Plot a segment of the target series\n",
    "\n",
    "Here we inspect a preview of the target time series."
   ]
  },
  {
   "cell_type": "code",
   "execution_count": 6,
   "metadata": {},
   "outputs": [
    {
     "data": {
      "image/png": "[encoded data removed]",
      "text/plain": [
       "<Figure size 1000x200 with 1 Axes>"
      ]
     },
     "metadata": {},
     "output_type": "display_data"
    }
   ],
   "source": [
    "fig, axs = plt.subplots(len(target_columns), 1, figsize=(10, 2 * len(target_columns)), squeeze=False)\n",
    "for ax, target_column in zip(axs, target_columns):\n",
    "    ax[0].plot(input_df[timestamp_column], input_df[target_column])\n"
   ]
  },
  {
   "cell_type": "markdown",
   "metadata": {},
   "source": [
    "## Preprocessing the Data"
   ]
  },
  {
   "cell_type": "markdown",
   "metadata": {},
   "source": [
    "### Split the data into training, validation, and testing sets\n",
    "\n",
    "We split the data into training, validation, and test sets. The training set is used to train the preprocessor, while the test set is used to evaluate the model performance."
   ]
  },
  {
   "cell_type": "code",
   "execution_count": 7,
   "metadata": {},
   "outputs": [
    {
     "name": "stdout",
     "output_type": "stream",
     "text": [
      "Data lengths: train = 24544, val = 4020, test = 7524\n"
     ]
    }
   ],
   "source": [
    "split_config = {\n",
    "    \"train\": 0.7,\n",
    "    \"test\": 0.2\n",
    "}\n",
    "\n",
    "train_df, valid_df, test_df = prepare_data_splits(\n",
    "    input_df, context_length=context_length, split_config=split_config\n",
    ")\n",
    "print(f\"Data lengths: train = {len(train_df)}, val = {len(valid_df)}, test = {len(test_df)}\")"
   ]
  },
  {
   "cell_type": "markdown",
   "metadata": {},
   "source": [
    "### Train the Preprocessor\n",
    "\n",
    "The preprocessor is trained on the training portion of the input data to learn the scaling factors. The scaling will be applied when we use the preprocess method of the time series preprocessor."
   ]
  },
  {
   "cell_type": "code",
   "execution_count": 8,
   "metadata": {},
   "outputs": [],
   "source": [
    "column_specifiers = {\n",
    "    \"timestamp_column\": timestamp_column,\n",
    "    \"id_columns\": [],\n",
    "    \"target_columns\": target_columns,\n",
    "    \"control_columns\": [],\n",
    "}\n",
    "\n",
    "tsp = TimeSeriesPreprocessor(\n",
    "    **column_specifiers,\n",
    "    context_length=context_length,\n",
    "    prediction_length=prediction_length,\n",
    "    scaling=True,\n",
    "    scaler_type=\"standard\",\n",
    ")\n",
    "\n",
    "trained_tsp = tsp.train(train_df)"
   ]
  },
  {
   "cell_type": "markdown",
   "metadata": {},
   "source": [
    "## Evaluating the Model"
   ]
  },
  {
   "cell_type": "markdown",
   "metadata": {},
   "source": [
    "### Set up zero shot model\n",
    "The pretrained TTM model is hosted on [HuggingFace](https://huggingface.co/ibm-granite/granite-timeseries-ttm-v1), and is loaded into a `TinyTimeMixerForPrediction` model. We have one input channel in this example."
   ]
  },
  {
   "cell_type": "code",
   "execution_count": null,
   "metadata": {},
   "outputs": [],
   "source": [
    "# Instantiate the model.\n",
    "zeroshot_model = TinyTimeMixerForPrediction.from_pretrained(\n",
    "  \"ibm-granite/granite-timeseries-ttm-v1\", # Name of the model on HuggingFace.\n",
    "  num_input_channels=len(target_columns) # Number of input columns.\n",
    ")"
   ]
  },
  {
   "cell_type": "markdown",
   "metadata": {},
   "source": [
    "### Run the model\n",
    "\n",
    "Run the model using a forecasting pipeline, on preprocessed test data."
   ]
  },
  {
   "cell_type": "code",
   "execution_count": null,
   "metadata": {},
   "outputs": [],
   "source": [
    "# Create a pipeline.\n",
    "pipeline = TimeSeriesForecastingPipeline(\n",
    "    zeroshot_model,\n",
    "    device=\"cpu\", # Specify your local GPU or CPU.\n",
    "    feature_extractor=tsp\n",
    ")\n",
    "\n",
    "# Make a forecast on the target column given the input data.\n",
    "zeroshot_forecast = pipeline(tsp.preprocess(test_df))\n",
    "zeroshot_forecast.head()"
   ]
  },
  {
   "cell_type": "markdown",
   "metadata": {},
   "source": [
    "### Evaluate the Model\n",
    "\n",
    "Evaluate the model on the test dataset using a custom metric. In this case we define three standard metrics, mean squared error (MSE), root mean squared error (RMSE), and mean absolute error (MAE)."
   ]
  },
  {
   "cell_type": "code",
   "execution_count": null,
   "metadata": {},
   "outputs": [],
   "source": [
    "def custom_metric(actual, prediction, column_header=\"results\"):\n",
    "    \"\"\"Simple function to compute MSE\"\"\"\n",
    "    a = np.asarray(actual.tolist())\n",
    "    p = np.asarray(prediction.tolist())\n",
    "\n",
    "    mask = ~np.any(np.isnan(a), axis=1)\n",
    "    \n",
    "    mse = np.mean(np.square(a[mask, :] - p[mask, :]))\n",
    "    mae = np.mean(np.abs(a[mask, :] - p[mask, :]))\n",
    "    return pd.DataFrame({column_header: {\"mean_squared_error\": mse, \"root_mean_squared_error\": np.sqrt(mse), \"mean_absolute_error\": mae}})\n",
    "\n",
    "custom_metric(\n",
    "        zeroshot_forecast[\"total load actual\"], zeroshot_forecast[\"total load actual_prediction\"], \"zero-shot forecast\"\n",
    "    )"
   ]
  },
  {
   "cell_type": "markdown",
   "metadata": {},
   "source": [
    "### Plot the Predictions vs. Actuals"
   ]
  },
  {
   "cell_type": "code",
   "execution_count": null,
   "metadata": {},
   "outputs": [],
   "source": [
    "# plot\n",
    "plot_predictions(\n",
    "    input_df=test_df,\n",
    "    predictions_df=zeroshot_forecast,\n",
    "    freq=\"h\",\n",
    "    timestamp_column=timestamp_column,\n",
    "    channel=target_column,\n",
    "    indices=[4547, 5325, 5887]\n",
    ")"
   ]
  },
  {
   "cell_type": "markdown",
   "metadata": {},
   "source": [
    "## Making the Forecast"
   ]
  },
  {
   "cell_type": "markdown",
   "metadata": {},
   "source": [
    "### Use the pipeline to make a forecast\n",
    "\n",
    "Use the forecasting pipeline we assembled above to make a forward prediction from the end of the original dataset."
   ]
  },
  {
   "cell_type": "code",
   "execution_count": null,
   "metadata": {},
   "outputs": [],
   "source": [
    "historical = input_df.iloc[-context_length:] \n",
    "\n",
    "# Make a forecast on the target column given the input data.\n",
    "zeroshot_forecast = pipeline(tsp.preprocess(historical))\n",
    "zeroshot_forecast.head()"
   ]
  },
  {
   "cell_type": "markdown",
   "metadata": {},
   "source": [
    "### Plot predictions along with the historical data.\n",
    "\n",
    "The predicted series picks up where the historical data ends, and we can see that it predicts a continuation of the cyclical pattern and an upward trend."
   ]
  },
  {
   "cell_type": "code",
   "execution_count": null,
   "metadata": {},
   "outputs": [],
   "source": [
    "# Plot the historical data and predicted series.\n",
    "plot_predictions(\n",
    "    input_df=historical,\n",
    "    predictions_df=zeroshot_forecast,\n",
    "    freq=\"h\",\n",
    "    timestamp_column=timestamp_column,\n",
    "    channel=target_column,\n",
    "    indices=[-1]\n",
    ")"
   ]
  },
  {
   "cell_type": "markdown",
   "metadata": {},
   "source": [
    "## Links\n",
    "* [Granite TSFM on Github](https://github.com/ibm-granite/granite-tsfm)"
   ]
  }
 ],
 "metadata": {
  "kernelspec": {
   "display_name": "Python 3 (ipykernel)",
   "language": "python",
   "name": "python3"
  },
  "language_info": {
   "codemirror_mode": {
    "name": "ipython",
    "version": 3
   },
   "file_extension": ".py",
   "mimetype": "text/x-python",
   "name": "python",
   "nbconvert_exporter": "python",
   "pygments_lexer": "ipython3",
   "version": "3.12.4"
  }
 },
 "nbformat": 4,
 "nbformat_minor": 4
}
